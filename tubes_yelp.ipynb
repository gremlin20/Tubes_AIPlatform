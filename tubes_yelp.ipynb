{
 "cells": [
  {
   "cell_type": "code",
   "execution_count": 1,
   "metadata": {},
   "outputs": [],
   "source": [
    "import pandas as pd \n",
    "import numpy as np\n",
    "import matplotlib.pyplot as plt"
   ]
  },
  {
   "cell_type": "code",
   "execution_count": 2,
   "metadata": {},
   "outputs": [
    {
     "name": "stdout",
     "output_type": "stream",
     "text": [
      "<class 'pandas.core.frame.DataFrame'>\n",
      "RangeIndex: 1000 entries, 0 to 999\n",
      "Data columns (total 2 columns):\n",
      " #   Column     Non-Null Count  Dtype \n",
      "---  ------     --------------  ----- \n",
      " 0   text       1000 non-null   object\n",
      " 1   sentiment  1000 non-null   int64 \n",
      "dtypes: int64(1), object(1)\n",
      "memory usage: 15.8+ KB\n"
     ]
    }
   ],
   "source": [
    "path='E:\\kuliah\\Tubes_AIPlatform\\yelp_labelled.txt'\n",
    "df=pd.read_csv(path,delimiter='\\t',header=None, names=[\"text\",\"sentiment\"])\n",
    "df.info()"
   ]
  },
  {
   "cell_type": "code",
   "execution_count": 3,
   "metadata": {},
   "outputs": [
    {
     "data": {
      "text/html": [
       "<div>\n",
       "<style scoped>\n",
       "    .dataframe tbody tr th:only-of-type {\n",
       "        vertical-align: middle;\n",
       "    }\n",
       "\n",
       "    .dataframe tbody tr th {\n",
       "        vertical-align: top;\n",
       "    }\n",
       "\n",
       "    .dataframe thead th {\n",
       "        text-align: right;\n",
       "    }\n",
       "</style>\n",
       "<table border=\"1\" class=\"dataframe\">\n",
       "  <thead>\n",
       "    <tr style=\"text-align: right;\">\n",
       "      <th></th>\n",
       "      <th>text</th>\n",
       "      <th>sentiment</th>\n",
       "    </tr>\n",
       "  </thead>\n",
       "  <tbody>\n",
       "    <tr>\n",
       "      <th>0</th>\n",
       "      <td>Wow... Loved this place.</td>\n",
       "      <td>1</td>\n",
       "    </tr>\n",
       "    <tr>\n",
       "      <th>1</th>\n",
       "      <td>Crust is not good.</td>\n",
       "      <td>0</td>\n",
       "    </tr>\n",
       "    <tr>\n",
       "      <th>2</th>\n",
       "      <td>Not tasty and the texture was just nasty.</td>\n",
       "      <td>0</td>\n",
       "    </tr>\n",
       "    <tr>\n",
       "      <th>3</th>\n",
       "      <td>Stopped by during the late May bank holiday of...</td>\n",
       "      <td>1</td>\n",
       "    </tr>\n",
       "    <tr>\n",
       "      <th>4</th>\n",
       "      <td>The selection on the menu was great and so wer...</td>\n",
       "      <td>1</td>\n",
       "    </tr>\n",
       "  </tbody>\n",
       "</table>\n",
       "</div>"
      ],
      "text/plain": [
       "                                                text  sentiment\n",
       "0                           Wow... Loved this place.          1\n",
       "1                                 Crust is not good.          0\n",
       "2          Not tasty and the texture was just nasty.          0\n",
       "3  Stopped by during the late May bank holiday of...          1\n",
       "4  The selection on the menu was great and so wer...          1"
      ]
     },
     "execution_count": 3,
     "metadata": {},
     "output_type": "execute_result"
    }
   ],
   "source": [
    "df.head()"
   ]
  },
  {
   "cell_type": "code",
   "execution_count": 4,
   "metadata": {},
   "outputs": [
    {
     "data": {
      "text/plain": [
       "1    500\n",
       "0    500\n",
       "Name: sentiment, dtype: int64"
      ]
     },
     "execution_count": 4,
     "metadata": {},
     "output_type": "execute_result"
    }
   ],
   "source": [
    "df['sentiment'].value_counts()"
   ]
  },
  {
   "cell_type": "code",
   "execution_count": 5,
   "metadata": {},
   "outputs": [
    {
     "data": {
      "text/plain": [
       "text         0\n",
       "sentiment    0\n",
       "dtype: int64"
      ]
     },
     "execution_count": 5,
     "metadata": {},
     "output_type": "execute_result"
    }
   ],
   "source": [
    "df.isna().sum()"
   ]
  },
  {
   "cell_type": "code",
   "execution_count": 6,
   "metadata": {},
   "outputs": [
    {
     "data": {
      "text/plain": [
       "4"
      ]
     },
     "execution_count": 6,
     "metadata": {},
     "output_type": "execute_result"
    }
   ],
   "source": [
    "df.duplicated().sum()"
   ]
  },
  {
   "cell_type": "code",
   "execution_count": 7,
   "metadata": {},
   "outputs": [],
   "source": [
    "def remove_stopwords(text):\n",
    "    stop_words = stopwords.words('english')\n",
    "    words = text.split()\n",
    "    filtered_sentence = ''\n",
    "    for word in words:\n",
    "        if word not in stop_words:\n",
    "            filtered_sentence = filtered_sentence + word + ' '\n",
    "    return filtered_sentence"
   ]
  },
  {
   "cell_type": "code",
   "execution_count": 8,
   "metadata": {},
   "outputs": [],
   "source": [
    "#Handling Special Characters\n",
    "def normalize_text(text):\n",
    "    text = text.lower()\n",
    "    # get rid of urls\n",
    "    text = re.sub('https?://\\S+|www\\.\\S+', '', text)\n",
    "    # get rid of non words and extra spaces\n",
    "    text = re.sub('\\\\W', ' ', text)\n",
    "    text = re.sub('\\n', '', text)\n",
    "    text = re.sub(' +', ' ', text)\n",
    "    text = re.sub('^ ', '', text)\n",
    "    text = re.sub(' $', '', text)\n",
    "    return text"
   ]
  },
  {
   "cell_type": "code",
   "execution_count": 9,
   "metadata": {},
   "outputs": [],
   "source": [
    "def remove_punctuation(text):\n",
    "    table = str.maketrans('','',string.punctuation)\n",
    "    words = text.split()\n",
    "    filtered_sentence = ''\n",
    "    for word in words:\n",
    "        word = word.translate(table)\n",
    "        filtered_sentence = filtered_sentence + word + ' '\n",
    "    return filtered_sentence"
   ]
  },
  {
   "cell_type": "code",
   "execution_count": 10,
   "metadata": {},
   "outputs": [],
   "source": [
    "def stemming(text):\n",
    "    ps = PorterStemmer()\n",
    "    words = text.split()\n",
    "    filtered_sentence = ''\n",
    "    for word in words:\n",
    "        word = ps.stem(word)\n",
    "        filtered_sentence = filtered_sentence + word + ' '\n",
    "    return filtered_sentence"
   ]
  },
  {
   "cell_type": "code",
   "execution_count": 11,
   "metadata": {},
   "outputs": [],
   "source": [
    "def clean_text(text):\n",
    "    text = text.lower()\n",
    "    text = text.replace(',',' , ')\n",
    "    text = text.replace('.',' . ')\n",
    "    text = text.replace('/',' / ')\n",
    "    text = text.replace('@',' @ ')\n",
    "    text = text.replace('#',' # ')\n",
    "    text = text.replace('?',' ? ')\n",
    "    text = normalize_text(text)\n",
    "    text = remove_punctuation(text)\n",
    "    text = remove_stopwords(text)\n",
    "    text = stemming(text)\n",
    "    return text"
   ]
  },
  {
   "cell_type": "code",
   "execution_count": 12,
   "metadata": {},
   "outputs": [],
   "source": [
    "from sklearn.preprocessing import OneHotEncoder\n",
    "X = df[\"text\"]\n",
    "y = df['sentiment']\n",
    "\n",
    "one = OneHotEncoder()\n",
    "y = one.fit_transform(np.asarray(y).reshape(-1,1)).toarray()"
   ]
  },
  {
   "cell_type": "code",
   "execution_count": 13,
   "metadata": {},
   "outputs": [
    {
     "data": {
      "text/plain": [
       "array([[0., 1.],\n",
       "       [1., 0.],\n",
       "       [1., 0.],\n",
       "       ...,\n",
       "       [1., 0.],\n",
       "       [1., 0.],\n",
       "       [1., 0.]])"
      ]
     },
     "execution_count": 13,
     "metadata": {},
     "output_type": "execute_result"
    }
   ],
   "source": [
    "y"
   ]
  },
  {
   "cell_type": "code",
   "execution_count": 14,
   "metadata": {},
   "outputs": [],
   "source": [
    "from sklearn.model_selection import train_test_split\n",
    "X_train, X_test, y_train, y_test = train_test_split(X,\n",
    "                                                   y,\n",
    "                                                   test_size=0.3,\n",
    "                                                   random_state=42,\n",
    "                                                   shuffle=True)"
   ]
  },
  {
   "cell_type": "code",
   "execution_count": 15,
   "metadata": {},
   "outputs": [],
   "source": [
    "vocab_size = 15000\n",
    "max_length = 50\n",
    "trunc_type = 'post'\n",
    "padding_type = 'post'\n",
    "oov_tok = '<OOV>' "
   ]
  },
  {
   "cell_type": "code",
   "execution_count": 16,
   "metadata": {},
   "outputs": [],
   "source": [
    "from tensorflow.keras.preprocessing.text import Tokenizer\n",
    "tokenizer = Tokenizer(num_words=vocab_size, oov_token=oov_tok)\n",
    "tokenizer.fit_on_texts(X_train)"
   ]
  },
  {
   "cell_type": "code",
   "execution_count": 17,
   "metadata": {},
   "outputs": [],
   "source": [
    "X_train = tokenizer.texts_to_sequences(X_train)\n",
    "X_test = tokenizer.texts_to_sequences(X_test)"
   ]
  },
  {
   "cell_type": "code",
   "execution_count": 18,
   "metadata": {},
   "outputs": [],
   "source": [
    "from keras.utils import pad_sequences\n",
    "X_train = pad_sequences(X_train, maxlen=max_length,\n",
    "                         padding=padding_type,\n",
    "                         truncating=trunc_type)\n",
    "X_test = pad_sequences(X_test, maxlen=max_length,\n",
    "                         padding=padding_type,\n",
    "                         truncating=trunc_type)"
   ]
  },
  {
   "cell_type": "code",
   "execution_count": 19,
   "metadata": {},
   "outputs": [],
   "source": [
    "from keras.models import Sequential\n",
    "from keras.layers import Dense, Embedding, LSTM, Dropout\n",
    "from keras.callbacks import EarlyStopping"
   ]
  },
  {
   "cell_type": "code",
   "execution_count": 20,
   "metadata": {},
   "outputs": [],
   "source": [
    "def build_model():\n",
    "    model = Sequential()\n",
    "    #Embedding layer converts words into dense vectors of fixed size (64 dimensions) for neural network processing. \n",
    "    #Input length is set to the max_length defined earlier.\n",
    "    model.add(Embedding(vocab_size, 64, input_length=max_length))\n",
    "    model.add(LSTM(64, return_sequences=True))\n",
    "    model.add(Dropout(0.3))\n",
    "\n",
    "    model.add(LSTM(32, return_sequences=True))\n",
    "    model.add(Dropout(0.3))\n",
    "\n",
    "    model.add(LSTM(32))\n",
    "    model.add(Dropout(0.3))\n",
    "    model.add(Dense(32, activation='relu'))\n",
    "    model.add(Dense(2, activation='softmax'))\n",
    "\n",
    "    model.compile(loss='categorical_crossentropy', optimizer='adam', metrics=['accuracy'])\n",
    "\n",
    "    return model"
   ]
  },
  {
   "cell_type": "code",
   "execution_count": 21,
   "metadata": {},
   "outputs": [
    {
     "name": "stdout",
     "output_type": "stream",
     "text": [
      "Epoch 1/25\n",
      "2/2 [==============================] - 8s 3s/step - loss: 0.6928 - accuracy: 0.5054 - val_loss: 0.6933 - val_accuracy: 0.4857\n",
      "Epoch 2/25\n",
      "2/2 [==============================] - 0s 190ms/step - loss: 0.6938 - accuracy: 0.4929 - val_loss: 0.6937 - val_accuracy: 0.4857\n",
      "Epoch 3/25\n",
      "2/2 [==============================] - 0s 203ms/step - loss: 0.6933 - accuracy: 0.4911 - val_loss: 0.6932 - val_accuracy: 0.4857\n",
      "Epoch 4/25\n",
      "2/2 [==============================] - 0s 210ms/step - loss: 0.6919 - accuracy: 0.5232 - val_loss: 0.6928 - val_accuracy: 0.5143\n",
      "Epoch 5/25\n",
      "2/2 [==============================] - 0s 215ms/step - loss: 0.6937 - accuracy: 0.4839 - val_loss: 0.6928 - val_accuracy: 0.5143\n",
      "Epoch 6/25\n",
      "2/2 [==============================] - 0s 184ms/step - loss: 0.6911 - accuracy: 0.5375 - val_loss: 0.6929 - val_accuracy: 0.5143\n",
      "Epoch 7/25\n",
      "2/2 [==============================] - 0s 222ms/step - loss: 0.6954 - accuracy: 0.4804 - val_loss: 0.6935 - val_accuracy: 0.4857\n",
      "Epoch 8/25\n",
      "2/2 [==============================] - 0s 192ms/step - loss: 0.6946 - accuracy: 0.5036 - val_loss: 0.6935 - val_accuracy: 0.4857\n",
      "Epoch 9/25\n",
      "2/2 [==============================] - 0s 196ms/step - loss: 0.6949 - accuracy: 0.4857 - val_loss: 0.6935 - val_accuracy: 0.4857\n",
      "Epoch 10/25\n",
      "2/2 [==============================] - 0s 208ms/step - loss: 0.6960 - accuracy: 0.4607 - val_loss: 0.6934 - val_accuracy: 0.4857\n",
      "Epoch 11/25\n",
      "2/2 [==============================] - 1s 246ms/step - loss: 0.6924 - accuracy: 0.5071 - val_loss: 0.6934 - val_accuracy: 0.4857\n",
      "Epoch 12/25\n",
      "2/2 [==============================] - 0s 204ms/step - loss: 0.6939 - accuracy: 0.5107 - val_loss: 0.6931 - val_accuracy: 0.4857\n",
      "Epoch 13/25\n",
      "2/2 [==============================] - 0s 208ms/step - loss: 0.6925 - accuracy: 0.5107 - val_loss: 0.6927 - val_accuracy: 0.5214\n",
      "Epoch 14/25\n",
      "2/2 [==============================] - 0s 197ms/step - loss: 0.6932 - accuracy: 0.5000 - val_loss: 0.6924 - val_accuracy: 0.5143\n",
      "Epoch 15/25\n",
      "2/2 [==============================] - 0s 197ms/step - loss: 0.6938 - accuracy: 0.4946 - val_loss: 0.6922 - val_accuracy: 0.5071\n",
      "Epoch 16/25\n",
      "2/2 [==============================] - 0s 153ms/step - loss: 0.6915 - accuracy: 0.5393 - val_loss: 0.6920 - val_accuracy: 0.5071\n",
      "Epoch 17/25\n",
      "2/2 [==============================] - 0s 144ms/step - loss: 0.6911 - accuracy: 0.5179 - val_loss: 0.6908 - val_accuracy: 0.5429\n",
      "Epoch 18/25\n",
      "2/2 [==============================] - 0s 155ms/step - loss: 0.6876 - accuracy: 0.6054 - val_loss: 0.6880 - val_accuracy: 0.6071\n",
      "Epoch 19/25\n",
      "2/2 [==============================] - 0s 157ms/step - loss: 0.6793 - accuracy: 0.6500 - val_loss: 0.6803 - val_accuracy: 0.5929\n",
      "Epoch 20/25\n",
      "2/2 [==============================] - 0s 150ms/step - loss: 0.6622 - accuracy: 0.6571 - val_loss: 0.6597 - val_accuracy: 0.6429\n",
      "Epoch 21/25\n",
      "2/2 [==============================] - 0s 194ms/step - loss: 0.6071 - accuracy: 0.7268 - val_loss: 0.6360 - val_accuracy: 0.6500\n",
      "Epoch 22/25\n",
      "2/2 [==============================] - 0s 147ms/step - loss: 0.5205 - accuracy: 0.7893 - val_loss: 0.6351 - val_accuracy: 0.6857\n",
      "Epoch 23/25\n",
      "2/2 [==============================] - 0s 146ms/step - loss: 0.4605 - accuracy: 0.8179 - val_loss: 0.6597 - val_accuracy: 0.7000\n",
      "Epoch 24/25\n",
      "2/2 [==============================] - 0s 145ms/step - loss: 0.3808 - accuracy: 0.8643 - val_loss: 0.7469 - val_accuracy: 0.6857\n",
      "Epoch 25/25\n",
      "2/2 [==============================] - 0s 139ms/step - loss: 0.3184 - accuracy: 0.8982 - val_loss: 0.8521 - val_accuracy: 0.6786\n"
     ]
    }
   ],
   "source": [
    "model=build_model()\n",
    "batch_size = 400\n",
    "history = model.fit(X_train,y_train,epochs=25,batch_size=batch_size,validation_split=.2)"
   ]
  },
  {
   "cell_type": "code",
   "execution_count": 22,
   "metadata": {},
   "outputs": [
    {
     "name": "stdout",
     "output_type": "stream",
     "text": [
      "10/10 [==============================] - 0s 9ms/step - loss: 0.6757 - accuracy: 0.7500\n"
     ]
    }
   ],
   "source": [
    "score = model.evaluate(np.asarray(X_test),np.asarray(y_test))"
   ]
  },
  {
   "cell_type": "code",
   "execution_count": 23,
   "metadata": {},
   "outputs": [
    {
     "name": "stdout",
     "output_type": "stream",
     "text": [
      "10/10 [==============================] - 1s 9ms/step\n"
     ]
    }
   ],
   "source": [
    "import tensorflow as tf\n",
    "predicted = model.predict(X_test)\n",
    "predicted = tf.squeeze(predicted)"
   ]
  },
  {
   "cell_type": "code",
   "execution_count": 24,
   "metadata": {},
   "outputs": [],
   "source": [
    "import numpy as np\n",
    "actual = np.argmax(y_test,axis=1)\n",
    "predicted = np.argmax(predicted,axis=1)"
   ]
  },
  {
   "cell_type": "code",
   "execution_count": 25,
   "metadata": {},
   "outputs": [
    {
     "data": {
      "text/plain": [
       "<sklearn.metrics._plot.confusion_matrix.ConfusionMatrixDisplay at 0x131de6a3910>"
      ]
     },
     "execution_count": 25,
     "metadata": {},
     "output_type": "execute_result"
    },
    {
     "data": {
      "image/png": "[encoded data removed]",
      "text/plain": [
       "<Figure size 640x480 with 2 Axes>"
      ]
     },
     "metadata": {},
     "output_type": "display_data"
    }
   ],
   "source": [
    "from sklearn.metrics import confusion_matrix,ConfusionMatrixDisplay\n",
    "conf_mat = confusion_matrix(actual, predicted)\n",
    "\n",
    "displ = ConfusionMatrixDisplay(confusion_matrix=conf_mat)\n",
    "displ.plot()"
   ]
  }
 ],
 "metadata": {
  "kernelspec": {
   "display_name": "Python 3",
   "language": "python",
   "name": "python3"
  },
  "language_info": {
   "codemirror_mode": {
    "name": "ipython",
    "version": 3
   },
   "file_extension": ".py",
   "mimetype": "text/x-python",
   "name": "python",
   "nbconvert_exporter": "python",
   "pygments_lexer": "ipython3",
   "version": "3.10.11"
  }
 },
 "nbformat": 4,
 "nbformat_minor": 2
}
