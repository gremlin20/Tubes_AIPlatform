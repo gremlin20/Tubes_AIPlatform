{
 "cells": [
  {
   "cell_type": "code",
   "execution_count": 1,
   "metadata": {},
   "outputs": [],
   "source": [
    "import pandas as pd \n",
    "import numpy as np\n",
    "import matplotlib.pyplot as plt"
   ]
  },
  {
   "cell_type": "code",
   "execution_count": 2,
   "metadata": {},
   "outputs": [],
   "source": [
    "def openFile(path):\n",
    "    #param path: path/to/file.ext (str)\n",
    "    #Returns contents of file (str)\n",
    "    with open(path) as file:\n",
    "        data = file.read()\n",
    "    return data\n",
    "imdb_data = openFile('imdb_labelled.txt')\n",
    "amzn_data = openFile('amazon_cells_labelled.txt')\n",
    "yelp_data = openFile('yelp_labelled.txt')\n",
    "datasets = [imdb_data, amzn_data, yelp_data]\n",
    "\n",
    "combined_dataset = []\n",
    "for dataset in datasets:\n",
    "    combined_dataset.extend(dataset.split('\\n'))\n",
    "    \n",
    "dataset = [sample.split('\\t') for sample in combined_dataset]"
   ]
  },
  {
   "cell_type": "code",
   "execution_count": 3,
   "metadata": {},
   "outputs": [],
   "source": [
    "df = pd.DataFrame(data=dataset, columns=['Reviews', 'Labels'])\n",
    "df = df[df[\"Labels\"].notnull()]"
   ]
  },
  {
   "cell_type": "code",
   "execution_count": 4,
   "metadata": {},
   "outputs": [
    {
     "data": {
      "text/html": [
       "<div>\n",
       "<style scoped>\n",
       "    .dataframe tbody tr th:only-of-type {\n",
       "        vertical-align: middle;\n",
       "    }\n",
       "\n",
       "    .dataframe tbody tr th {\n",
       "        vertical-align: top;\n",
       "    }\n",
       "\n",
       "    .dataframe thead th {\n",
       "        text-align: right;\n",
       "    }\n",
       "</style>\n",
       "<table border=\"1\" class=\"dataframe\">\n",
       "  <thead>\n",
       "    <tr style=\"text-align: right;\">\n",
       "      <th></th>\n",
       "      <th>Reviews</th>\n",
       "      <th>Labels</th>\n",
       "    </tr>\n",
       "  </thead>\n",
       "  <tbody>\n",
       "    <tr>\n",
       "      <th>0</th>\n",
       "      <td>A very, very, very slow-moving, aimless movie ...</td>\n",
       "      <td>0</td>\n",
       "    </tr>\n",
       "    <tr>\n",
       "      <th>1</th>\n",
       "      <td>Not sure who was more lost - the flat characte...</td>\n",
       "      <td>0</td>\n",
       "    </tr>\n",
       "    <tr>\n",
       "      <th>2</th>\n",
       "      <td>Attempting artiness with black &amp; white and cle...</td>\n",
       "      <td>0</td>\n",
       "    </tr>\n",
       "    <tr>\n",
       "      <th>3</th>\n",
       "      <td>Very little music or anything to speak of.</td>\n",
       "      <td>0</td>\n",
       "    </tr>\n",
       "    <tr>\n",
       "      <th>4</th>\n",
       "      <td>The best scene in the movie was when Gerardo i...</td>\n",
       "      <td>1</td>\n",
       "    </tr>\n",
       "  </tbody>\n",
       "</table>\n",
       "</div>"
      ],
      "text/plain": [
       "                                             Reviews Labels\n",
       "0  A very, very, very slow-moving, aimless movie ...      0\n",
       "1  Not sure who was more lost - the flat characte...      0\n",
       "2  Attempting artiness with black & white and cle...      0\n",
       "3       Very little music or anything to speak of.        0\n",
       "4  The best scene in the movie was when Gerardo i...      1"
      ]
     },
     "execution_count": 4,
     "metadata": {},
     "output_type": "execute_result"
    }
   ],
   "source": [
    "df.head()"
   ]
  },
  {
   "cell_type": "code",
   "execution_count": 5,
   "metadata": {},
   "outputs": [
    {
     "data": {
      "text/plain": [
       "0    1500\n",
       "1    1500\n",
       "Name: Labels, dtype: int64"
      ]
     },
     "execution_count": 5,
     "metadata": {},
     "output_type": "execute_result"
    }
   ],
   "source": [
    "df['Labels'].value_counts()"
   ]
  },
  {
   "cell_type": "code",
   "execution_count": 6,
   "metadata": {},
   "outputs": [
    {
     "data": {
      "text/plain": [
       "Reviews    0\n",
       "Labels     0\n",
       "dtype: int64"
      ]
     },
     "execution_count": 6,
     "metadata": {},
     "output_type": "execute_result"
    }
   ],
   "source": [
    "df.isna().sum()"
   ]
  },
  {
   "cell_type": "code",
   "execution_count": 7,
   "metadata": {},
   "outputs": [
    {
     "data": {
      "text/plain": [
       "17"
      ]
     },
     "execution_count": 7,
     "metadata": {},
     "output_type": "execute_result"
    }
   ],
   "source": [
    "df.duplicated().sum()"
   ]
  },
  {
   "cell_type": "code",
   "execution_count": 8,
   "metadata": {},
   "outputs": [],
   "source": [
    "def remove_stopwords(text):\n",
    "    stop_words = stopwords.words('english')\n",
    "    words = text.split()\n",
    "    filtered_sentence = ''\n",
    "    for word in words:\n",
    "        if word not in stop_words:\n",
    "            filtered_sentence = filtered_sentence + word + ' '\n",
    "    return filtered_sentence"
   ]
  },
  {
   "cell_type": "code",
   "execution_count": 9,
   "metadata": {},
   "outputs": [],
   "source": [
    "#Handling Special Characters\n",
    "def normalize_text(text):\n",
    "    text = text.lower()\n",
    "    # get rid of urls\n",
    "    text = re.sub('https?://\\S+|www\\.\\S+', '', text)\n",
    "    # get rid of non words and extra spaces\n",
    "    text = re.sub('\\\\W', ' ', text)\n",
    "    text = re.sub('\\n', '', text)\n",
    "    text = re.sub(' +', ' ', text)\n",
    "    text = re.sub('^ ', '', text)\n",
    "    text = re.sub(' $', '', text)\n",
    "    return text"
   ]
  },
  {
   "cell_type": "code",
   "execution_count": 10,
   "metadata": {},
   "outputs": [],
   "source": [
    "def remove_punctuation(text):\n",
    "    table = str.maketrans('','',string.punctuation)\n",
    "    words = text.split()\n",
    "    filtered_sentence = ''\n",
    "    for word in words:\n",
    "        word = word.translate(table)\n",
    "        filtered_sentence = filtered_sentence + word + ' '\n",
    "    return filtered_sentence"
   ]
  },
  {
   "cell_type": "code",
   "execution_count": 11,
   "metadata": {},
   "outputs": [],
   "source": [
    "def stemming(text):\n",
    "    ps = PorterStemmer()\n",
    "    words = text.split()\n",
    "    filtered_sentence = ''\n",
    "    for word in words:\n",
    "        word = ps.stem(word)\n",
    "        filtered_sentence = filtered_sentence + word + ' '\n",
    "    return filtered_sentence"
   ]
  },
  {
   "cell_type": "code",
   "execution_count": 12,
   "metadata": {},
   "outputs": [],
   "source": [
    "def clean_text(text):\n",
    "    text = text.lower()\n",
    "    text = text.replace(',',' , ')\n",
    "    text = text.replace('.',' . ')\n",
    "    text = text.replace('/',' / ')\n",
    "    text = text.replace('@',' @ ')\n",
    "    text = text.replace('#',' # ')\n",
    "    text = text.replace('?',' ? ')\n",
    "    text = normalize_text(text)\n",
    "    text = remove_punctuation(text)\n",
    "    text = remove_stopwords(text)\n",
    "    text = stemming(text)\n",
    "    return text"
   ]
  },
  {
   "cell_type": "code",
   "execution_count": 13,
   "metadata": {},
   "outputs": [],
   "source": [
    "from sklearn.preprocessing import OneHotEncoder\n",
    "X = df[\"Reviews\"]\n",
    "y = df['Labels']\n",
    "\n",
    "one = OneHotEncoder()\n",
    "y = one.fit_transform(np.asarray(y).reshape(-1,1)).toarray()"
   ]
  },
  {
   "cell_type": "code",
   "execution_count": 14,
   "metadata": {},
   "outputs": [
    {
     "data": {
      "text/plain": [
       "array([[1., 0.],\n",
       "       [1., 0.],\n",
       "       [1., 0.],\n",
       "       ...,\n",
       "       [1., 0.],\n",
       "       [1., 0.],\n",
       "       [1., 0.]])"
      ]
     },
     "execution_count": 14,
     "metadata": {},
     "output_type": "execute_result"
    }
   ],
   "source": [
    "y"
   ]
  },
  {
   "cell_type": "code",
   "execution_count": 15,
   "metadata": {},
   "outputs": [],
   "source": [
    "from sklearn.model_selection import train_test_split\n",
    "X_train, X_test, y_train, y_test = train_test_split(X,\n",
    "                                                   y,\n",
    "                                                   test_size=0.3,\n",
    "                                                   random_state=42,\n",
    "                                                   shuffle=True)"
   ]
  },
  {
   "cell_type": "code",
   "execution_count": 16,
   "metadata": {},
   "outputs": [],
   "source": [
    "vocab_size = 500\n",
    "max_length = 50\n",
    "trunc_type = 'post'\n",
    "padding_type = 'post'\n",
    "oov_tok = '<OOV>' "
   ]
  },
  {
   "cell_type": "code",
   "execution_count": 17,
   "metadata": {},
   "outputs": [],
   "source": [
    "from tensorflow.keras.preprocessing.text import Tokenizer\n",
    "tokenizer = Tokenizer(num_words=vocab_size, oov_token=oov_tok)\n",
    "tokenizer.fit_on_texts(X_train)"
   ]
  },
  {
   "cell_type": "code",
   "execution_count": 18,
   "metadata": {},
   "outputs": [],
   "source": [
    "X_train = tokenizer.texts_to_sequences(X_train)\n",
    "X_test = tokenizer.texts_to_sequences(X_test)"
   ]
  },
  {
   "cell_type": "code",
   "execution_count": 19,
   "metadata": {},
   "outputs": [],
   "source": [
    "from keras.utils import pad_sequences\n",
    "X_train = pad_sequences(X_train, maxlen=max_length,\n",
    "                         padding=padding_type,\n",
    "                         truncating=trunc_type)\n",
    "X_test = pad_sequences(X_test, maxlen=max_length,\n",
    "                         padding=padding_type,\n",
    "                         truncating=trunc_type)"
   ]
  },
  {
   "cell_type": "code",
   "execution_count": 20,
   "metadata": {},
   "outputs": [],
   "source": [
    "from keras.models import Sequential\n",
    "from keras.layers import Dense, Embedding, LSTM, Dropout\n",
    "from keras.callbacks import EarlyStopping"
   ]
  },
  {
   "cell_type": "code",
   "execution_count": 21,
   "metadata": {},
   "outputs": [],
   "source": [
    "def build_model():\n",
    "    model = Sequential()\n",
    "    model.add(Embedding(vocab_size, 64, input_length=max_length))\n",
    "    model.add(LSTM(64, return_sequences=True))\n",
    "    model.add(Dropout(0.2))\n",
    "\n",
    "    model.add(LSTM(32, return_sequences=True))\n",
    "    model.add(Dropout(0.2))\n",
    "\n",
    "    model.add(LSTM(32))\n",
    "    model.add(Dropout(0.2))\n",
    "    model.add(Dense(32, activation='relu'))\n",
    "    model.add(Dense(2, activation='softmax'))\n",
    "\n",
    "    model.compile(loss='binary_crossentropy', optimizer='adam', metrics=['accuracy'])\n",
    "    model.summary()\n",
    "    return model"
   ]
  },
  {
   "cell_type": "code",
   "execution_count": 22,
   "metadata": {},
   "outputs": [
    {
     "name": "stdout",
     "output_type": "stream",
     "text": [
      "Model: \"sequential\"\n",
      "_________________________________________________________________\n",
      " Layer (type)                Output Shape              Param #   \n",
      "=================================================================\n",
      " embedding (Embedding)       (None, 50, 64)            32000     \n",
      "                                                                 \n",
      " lstm (LSTM)                 (None, 50, 64)            33024     \n",
      "                                                                 \n",
      " dropout (Dropout)           (None, 50, 64)            0         \n",
      "                                                                 \n",
      " lstm_1 (LSTM)               (None, 50, 32)            12416     \n",
      "                                                                 \n",
      " dropout_1 (Dropout)         (None, 50, 32)            0         \n",
      "                                                                 \n",
      " lstm_2 (LSTM)               (None, 32)                8320      \n",
      "                                                                 \n",
      " dropout_2 (Dropout)         (None, 32)                0         \n",
      "                                                                 \n",
      " dense (Dense)               (None, 32)                1056      \n",
      "                                                                 \n",
      " dense_1 (Dense)             (None, 2)                 66        \n",
      "                                                                 \n",
      "=================================================================\n",
      "Total params: 86,882\n",
      "Trainable params: 86,882\n",
      "Non-trainable params: 0\n",
      "_________________________________________________________________\n",
      "Epoch 1/25\n",
      "5/5 [==============================] - 7s 513ms/step - loss: 0.6933 - accuracy: 0.4863 - val_loss: 0.6934 - val_accuracy: 0.4833\n",
      "Epoch 2/25\n",
      "5/5 [==============================] - 1s 208ms/step - loss: 0.6931 - accuracy: 0.5012 - val_loss: 0.6937 - val_accuracy: 0.4833\n",
      "Epoch 3/25\n",
      "5/5 [==============================] - 1s 208ms/step - loss: 0.6932 - accuracy: 0.5000 - val_loss: 0.6942 - val_accuracy: 0.4833\n",
      "Epoch 4/25\n",
      "5/5 [==============================] - 1s 206ms/step - loss: 0.6933 - accuracy: 0.5065 - val_loss: 0.6949 - val_accuracy: 0.4833\n",
      "Epoch 5/25\n",
      "5/5 [==============================] - 1s 198ms/step - loss: 0.6933 - accuracy: 0.5083 - val_loss: 0.6942 - val_accuracy: 0.4833\n",
      "Epoch 6/25\n",
      "5/5 [==============================] - 1s 190ms/step - loss: 0.6930 - accuracy: 0.5054 - val_loss: 0.6931 - val_accuracy: 0.5167\n",
      "Epoch 7/25\n",
      "5/5 [==============================] - 1s 201ms/step - loss: 0.6933 - accuracy: 0.4929 - val_loss: 0.6930 - val_accuracy: 0.5167\n",
      "Epoch 8/25\n",
      "5/5 [==============================] - 1s 200ms/step - loss: 0.6931 - accuracy: 0.5054 - val_loss: 0.6934 - val_accuracy: 0.4833\n",
      "Epoch 9/25\n",
      "5/5 [==============================] - 1s 210ms/step - loss: 0.6932 - accuracy: 0.5036 - val_loss: 0.6938 - val_accuracy: 0.4833\n",
      "Epoch 10/25\n",
      "5/5 [==============================] - 1s 204ms/step - loss: 0.6930 - accuracy: 0.5101 - val_loss: 0.6940 - val_accuracy: 0.4833\n",
      "Epoch 11/25\n",
      "5/5 [==============================] - 1s 198ms/step - loss: 0.6930 - accuracy: 0.5071 - val_loss: 0.6942 - val_accuracy: 0.4833\n",
      "Epoch 12/25\n",
      "5/5 [==============================] - 1s 191ms/step - loss: 0.6928 - accuracy: 0.5095 - val_loss: 0.6937 - val_accuracy: 0.4833\n",
      "Epoch 13/25\n",
      "5/5 [==============================] - 1s 198ms/step - loss: 0.6929 - accuracy: 0.5077 - val_loss: 0.6939 - val_accuracy: 0.4833\n",
      "Epoch 14/25\n",
      "5/5 [==============================] - 1s 196ms/step - loss: 0.6928 - accuracy: 0.5089 - val_loss: 0.6945 - val_accuracy: 0.4833\n",
      "Epoch 15/25\n",
      "5/5 [==============================] - 1s 196ms/step - loss: 0.6930 - accuracy: 0.5101 - val_loss: 0.6944 - val_accuracy: 0.4810\n",
      "Epoch 16/25\n",
      "5/5 [==============================] - 1s 197ms/step - loss: 0.6931 - accuracy: 0.5125 - val_loss: 0.6940 - val_accuracy: 0.4833\n",
      "Epoch 17/25\n",
      "5/5 [==============================] - 1s 208ms/step - loss: 0.6925 - accuracy: 0.5173 - val_loss: 0.6925 - val_accuracy: 0.5167\n",
      "Epoch 18/25\n",
      "5/5 [==============================] - 1s 195ms/step - loss: 0.6916 - accuracy: 0.5345 - val_loss: 0.6888 - val_accuracy: 0.5452\n",
      "Epoch 19/25\n",
      "5/5 [==============================] - 1s 214ms/step - loss: 0.6825 - accuracy: 0.5679 - val_loss: 0.6609 - val_accuracy: 0.6262\n",
      "Epoch 20/25\n",
      "5/5 [==============================] - 1s 198ms/step - loss: 0.6352 - accuracy: 0.6815 - val_loss: 0.5920 - val_accuracy: 0.7095\n",
      "Epoch 21/25\n",
      "5/5 [==============================] - 1s 224ms/step - loss: 0.5567 - accuracy: 0.7494 - val_loss: 0.5679 - val_accuracy: 0.7214\n",
      "Epoch 22/25\n",
      "5/5 [==============================] - 1s 192ms/step - loss: 0.5092 - accuracy: 0.7833 - val_loss: 0.5696 - val_accuracy: 0.7357\n",
      "Epoch 23/25\n",
      "5/5 [==============================] - 1s 218ms/step - loss: 0.4442 - accuracy: 0.8220 - val_loss: 0.4922 - val_accuracy: 0.7643\n",
      "Epoch 24/25\n",
      "5/5 [==============================] - 1s 220ms/step - loss: 0.4098 - accuracy: 0.8423 - val_loss: 0.5452 - val_accuracy: 0.7452\n",
      "Epoch 25/25\n",
      "5/5 [==============================] - 1s 199ms/step - loss: 0.3893 - accuracy: 0.8530 - val_loss: 0.6571 - val_accuracy: 0.7643\n"
     ]
    }
   ],
   "source": [
    "model=build_model()\n",
    "batch_size = 400\n",
    "history = model.fit(X_train,y_train,epochs=25,batch_size=batch_size,validation_split=.2)"
   ]
  },
  {
   "cell_type": "code",
   "execution_count": 23,
   "metadata": {},
   "outputs": [
    {
     "name": "stdout",
     "output_type": "stream",
     "text": [
      " 1/29 [>.............................] - ETA: 0s - loss: 0.3084 - accuracy: 0.8438"
     ]
    },
    {
     "name": "stdout",
     "output_type": "stream",
     "text": [
      "29/29 [==============================] - 0s 12ms/step - loss: 0.7040 - accuracy: 0.7533\n"
     ]
    }
   ],
   "source": [
    "score = model.evaluate(np.asarray(X_test),np.asarray(y_test))"
   ]
  },
  {
   "cell_type": "code",
   "execution_count": 24,
   "metadata": {},
   "outputs": [
    {
     "name": "stdout",
     "output_type": "stream",
     "text": [
      "29/29 [==============================] - 1s 10ms/step\n"
     ]
    }
   ],
   "source": [
    "import tensorflow as tf\n",
    "predicted = model.predict(X_test)\n",
    "predicted = tf.squeeze(predicted)"
   ]
  },
  {
   "cell_type": "code",
   "execution_count": 25,
   "metadata": {},
   "outputs": [],
   "source": [
    "import numpy as np\n",
    "actual = np.argmax(y_test,axis=1)\n",
    "predicted = np.argmax(predicted,axis=1)"
   ]
  },
  {
   "cell_type": "code",
   "execution_count": 26,
   "metadata": {},
   "outputs": [
    {
     "data": {
      "text/plain": [
       "<sklearn.metrics._plot.confusion_matrix.ConfusionMatrixDisplay at 0x192c2d77e50>"
      ]
     },
     "execution_count": 26,
     "metadata": {},
     "output_type": "execute_result"
    },
    {
     "data": {
      "image/png": "[encoded data removed]",
      "text/plain": [
       "<Figure size 640x480 with 2 Axes>"
      ]
     },
     "metadata": {},
     "output_type": "display_data"
    }
   ],
   "source": [
    "from sklearn.metrics import confusion_matrix,ConfusionMatrixDisplay\n",
    "conf_mat = confusion_matrix(actual, predicted)\n",
    "\n",
    "displ = ConfusionMatrixDisplay(confusion_matrix=conf_mat)\n",
    "displ.plot()"
   ]
  }
 ],
 "metadata": {
  "kernelspec": {
   "display_name": "Python 3",
   "language": "python",
   "name": "python3"
  },
  "language_info": {
   "codemirror_mode": {
    "name": "ipython",
    "version": 3
   },
   "file_extension": ".py",
   "mimetype": "text/x-python",
   "name": "python",
   "nbconvert_exporter": "python",
   "pygments_lexer": "ipython3",
   "version": "3.10.11"
  }
 },
 "nbformat": 4,
 "nbformat_minor": 2
}
